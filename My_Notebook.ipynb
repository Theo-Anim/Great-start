{
 "cells": [
  {
   "cell_type": "markdown",
   "id": "1c1e84c7-b2d1-41b5-ae97-f805c39c144f",
   "metadata": {},
   "source": [
    "1+1"
   ]
  },
  {
   "cell_type": "markdown",
   "id": "d9a32de7-9270-4177-8500-44e5d43988fe",
   "metadata": {
    "tags": []
   },
   "source": [
    "2-3/5"
   ]
  },
  {
   "cell_type": "markdown",
   "id": "21bef553-bb84-4787-939b-62ad2a02c48d",
   "metadata": {},
   "source": [
    "MY TITLE"
   ]
  },
  {
   "cell_type": "markdown",
   "id": "61cf294a-c337-455f-b218-123eb378c3b4",
   "metadata": {},
   "source": []
  }
 ],
 "metadata": {
  "kernelspec": {
   "display_name": "Python 3 (ipykernel)",
   "language": "python",
   "name": "python3"
  },
  "language_info": {
   "codemirror_mode": {
    "name": "ipython",
    "version": 3
   },
   "file_extension": ".py",
   "mimetype": "text/x-python",
   "name": "python",
   "nbconvert_exporter": "python",
   "pygments_lexer": "ipython3",
   "version": "3.9.7"
  }
 },
 "nbformat": 4,
 "nbformat_minor": 5
}
